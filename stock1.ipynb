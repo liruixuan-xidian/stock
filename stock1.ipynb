{
 "cells": [
  {
   "cell_type": "code",
   "execution_count": 3,
   "metadata": {},
   "outputs": [
    {
     "name": "stdout",
     "output_type": "stream",
     "text": [
      "<http.client.HTTPResponse object at 0x10d2f9b38>\n"
     ]
    }
   ],
   "source": [
    "pip install tushare"
   ]
  },
  {
   "cell_type": "code",
   "execution_count": 133,
   "metadata": {},
   "outputs": [],
   "source": [
    "import tushare as ts\n",
    "import time\n",
    "import sys\n",
    "\n",
    "sh = ts.get_hist_data(\"sh\")\n",
    "#stock = {\"50etf\": \"510050\",\n",
    "#        \"卧龙电驱\": \"600580\",\n",
    "#        \"中国平安\": \"601318\",\n",
    "#        \"中国铝业\": \"601600\",\n",
    "#        \"永辉超市\": \"601933\",\n",
    "#        \"风华高科\": \"000636\",\n",
    "#        \"招商积余\": \"001914\",\n",
    "#        \"st中捷\": \"002021\",\n",
    "#        \"雪莱特\": \"002076\",\n",
    "#        \"宝通科技\": \"300031\"}\n",
    "\n",
    "stock = {'510050': '50etf',\n",
    "         '600580': '卧龙电驱',\n",
    "         '601318': '中国平安',\n",
    "         '601600': '中国铝业',\n",
    "         '601933': '永辉超市',\n",
    "         '000636': '风华高科',\n",
    "         '001914': '招商积余',\n",
    "         '002021': 'st中捷',\n",
    "         '002076': '雪莱特',\n",
    "         '300031': '宝通科技',\n",
    "         '002080': \"中材科技\"}\n",
    "\n",
    "#stock_code = list(stock.keys())\n",
    "\n",
    "#df1 = pd.DataFrame(stock, index=['name'])\n",
    "\n",
    "#df1.to_csv(\"/Users/liruixuan/program/stock/stock.csv\")\n",
    "#sh = ts.get_today_ticks(stock_code)\n",
    "df = pd.read_csv(\"/Users/liruixuan/program/stock/stock.csv\", dtype = object)\n"
   ]
  },
  {
   "cell_type": "code",
   "execution_count": 134,
   "metadata": {},
   "outputs": [
    {
     "name": "stdout",
     "output_type": "stream",
     "text": [
      "['Unnamed: 0', '510050', '600580', '601318', '601600', '601933', '000636', '001914', '002021', '002076', '300031', '002080']\n"
     ]
    }
   ],
   "source": [
    "stock_code = list(df.columns)\n",
    "print(stock_code)"
   ]
  },
  {
   "cell_type": "code",
   "execution_count": null,
   "metadata": {},
   "outputs": [],
   "source": [
    "def constrain_message_number():\n",
    "    if message_number > 10:\n",
    "        return 0\n",
    "    return 1"
   ]
  },
  {
   "cell_type": "code",
   "execution_count": 138,
   "metadata": {},
   "outputs": [],
   "source": [
    "from twilio.rest import Client\n",
    "from twilio.twiml.messaging_response import Body, Message, Redirect, MessagingResponse\n",
    "def send_message(message):\n",
    "    accound_sid = 'ACbe1489c26eb4b87386f75a84a8f017d6'\n",
    "    auth_token = 'f8548db499f7278f9d7c73dd9b4f4c25'\n",
    "    client =Client(accound_sid,auth_token)\n",
    "    #message = client.messages.create(\n",
    "    #    to='+8615529315818',\n",
    "    #    from_='+12056274272',\n",
    "    #    body=message)\n",
    "#send_message(\"aaa\")"
   ]
  },
  {
   "cell_type": "code",
   "execution_count": 135,
   "metadata": {},
   "outputs": [
    {
     "data": {
      "text/html": [
       "<div>\n",
       "<style scoped>\n",
       "    .dataframe tbody tr th:only-of-type {\n",
       "        vertical-align: middle;\n",
       "    }\n",
       "\n",
       "    .dataframe tbody tr th {\n",
       "        vertical-align: top;\n",
       "    }\n",
       "\n",
       "    .dataframe thead th {\n",
       "        text-align: right;\n",
       "    }\n",
       "</style>\n",
       "<table border=\"1\" class=\"dataframe\">\n",
       "  <thead>\n",
       "    <tr style=\"text-align: right;\">\n",
       "      <th></th>\n",
       "      <th>601318</th>\n",
       "      <th>300031</th>\n",
       "    </tr>\n",
       "  </thead>\n",
       "  <tbody>\n",
       "    <tr>\n",
       "      <th>name</th>\n",
       "      <td>中国平安</td>\n",
       "      <td>宝通科技</td>\n",
       "    </tr>\n",
       "    <tr>\n",
       "      <th>涨跌(%)</th>\n",
       "      <td>-0.06</td>\n",
       "      <td>-2.12</td>\n",
       "    </tr>\n",
       "  </tbody>\n",
       "</table>\n",
       "</div>"
      ],
      "text/plain": [
       "      601318 300031\n",
       "name    中国平安   宝通科技\n",
       "涨跌(%)  -0.06  -2.12"
      ]
     },
     "execution_count": 135,
     "metadata": {},
     "output_type": "execute_result"
    }
   ],
   "source": [
    "import easyquotation\n",
    "import pandas as pd\n",
    "\n",
    "def get_stock_current(stock_code):\n",
    "    quotation = easyquotation.use(\"qq\")\n",
    "    stock_current = quotation.stocks(stock_code)\n",
    "    df = pd.DataFrame(stock_current)\n",
    "    return df\n",
    "\n",
    "def find_decrease_stock(stock_df):\n",
    "    sell_stock = stock_df.loc[[\"name\", \"涨跌(%)\"], stock_df.loc[\"涨跌(%)\"] < 0]\n",
    "    return sell_stock\n",
    "\n",
    "def get_sell_stock(code_list):\n",
    "    code_df = get_stock_current(code_list)\n",
    "    sell_stock = find_decrease_stock(code_df)\n",
    "    return sell_stock\n",
    "\n",
    "get_sell_stock(stock_code)"
   ]
  },
  {
   "cell_type": "code",
   "execution_count": 96,
   "metadata": {},
   "outputs": [],
   "source": [
    "import tushare as ts\n",
    "import datetime\n",
    "import time\n",
    "def TradingDay():\n",
    "    DatetimeNOW = datetime.datetime.now().strftime('%Y-%m-%d')\n",
    "    OpenList = ts.trade_cal()\n",
    "    print(OpenList.calendarDate)\n",
    "    OpentimeList = OpenList.isOpen[OpenList.calendarDate == DatetimeNOW]\n",
    "    print(OpentimeList.values)"
   ]
  },
  {
   "cell_type": "code",
   "execution_count": 146,
   "metadata": {},
   "outputs": [
    {
     "ename": "SyntaxError",
     "evalue": "invalid syntax (<ipython-input-146-12a1b62f5096>, line 1)",
     "output_type": "error",
     "traceback": [
      "\u001b[0;36m  File \u001b[0;32m\"<ipython-input-146-12a1b62f5096>\"\u001b[0;36m, line \u001b[0;32m1\u001b[0m\n\u001b[0;31m    def constrain_message_number()\u001b[0m\n\u001b[0m                                  ^\u001b[0m\n\u001b[0;31mSyntaxError\u001b[0m\u001b[0;31m:\u001b[0m invalid syntax\n"
     ]
    }
   ],
   "source": []
  },
  {
   "cell_type": "code",
   "execution_count": 145,
   "metadata": {},
   "outputs": [
    {
     "name": "stdout",
     "output_type": "stream",
     "text": [
      "启动父进程\n",
      "启动子进程\n",
      "['Unnamed: 0', '510050', '600580', '601318', '601600', '601933', '000636', '001914', '002021', '002076', '300031', '002080']\n",
      "子进程启动成功\n",
      "[-0.06, -2.12]\n",
      "['中国平安', '宝通科技'] is decrease to [-0.06, -2.12] % please sell it as soon as possibale.\n",
      "601318\n",
      "300031\n",
      "['Unnamed: 0', '510050', '600580', '601600', '601933', '000636', '001914', '002021', '002076', '002080']\n",
      "['Unnamed: 0', '510050', '600580', '601600', '601933', '000636', '001914', '002021', '002076', '002080']\n",
      "['Unnamed: 0', '510050', '600580', '601600', '601933', '000636', '001914', '002021', '002076', '002080']\n",
      "['Unnamed: 0', '510050', '600580', '601600', '601933', '000636', '001914', '002021', '002076', '002080']\n",
      "['Unnamed: 0', '510050', '600580', '601600', '601933', '000636', '001914', '002021', '002076', '002080']\n"
     ]
    },
    {
     "name": "stderr",
     "output_type": "stream",
     "text": [
      "Process Process-27:\n",
      "Traceback (most recent call last):\n",
      "  File \"/Users/liruixuan/miniconda3/lib/python3.6/multiprocessing/process.py\", line 93, in run\n",
      "    self._target(*self._args, **self._kwargs)\n",
      "  File \"/Users/liruixuan/miniconda3/lib/python3.6/multiprocessing/process.py\", line 258, in _bootstrap\n",
      "    self.run()\n",
      "  File \"<ipython-input-145-feea78a2d2f3>\", line 44, in run_child\n",
      "    sleep(5)\n",
      "KeyboardInterrupt\n"
     ]
    },
    {
     "ename": "KeyboardInterrupt",
     "evalue": "",
     "output_type": "error",
     "traceback": [
      "\u001b[0;31m---------------------------------------------------------------------------\u001b[0m",
      "\u001b[0;31mKeyboardInterrupt\u001b[0m                         Traceback (most recent call last)",
      "\u001b[0;32m<ipython-input-145-feea78a2d2f3>\u001b[0m in \u001b[0;36m<module>\u001b[0;34m\u001b[0m\n\u001b[1;32m     80\u001b[0m \u001b[0;34m\u001b[0m\u001b[0m\n\u001b[1;32m     81\u001b[0m \u001b[0;32mif\u001b[0m \u001b[0m__name__\u001b[0m \u001b[0;34m==\u001b[0m \u001b[0;34m'__main__'\u001b[0m\u001b[0;34m:\u001b[0m\u001b[0;34m\u001b[0m\u001b[0m\n\u001b[0;32m---> 82\u001b[0;31m     \u001b[0mrun_parent\u001b[0m\u001b[0;34m(\u001b[0m\u001b[0;34m)\u001b[0m\u001b[0;34m\u001b[0m\u001b[0m\n\u001b[0m",
      "\u001b[0;32m<ipython-input-145-feea78a2d2f3>\u001b[0m in \u001b[0;36mrun_parent\u001b[0;34m()\u001b[0m\n\u001b[1;32m     76\u001b[0m             \u001b[0mprint\u001b[0m\u001b[0;34m(\u001b[0m\u001b[0;34m\"子进程关闭成功\"\u001b[0m\u001b[0;34m)\u001b[0m\u001b[0;34m\u001b[0m\u001b[0m\n\u001b[1;32m     77\u001b[0m \u001b[0;34m\u001b[0m\u001b[0m\n\u001b[0;32m---> 78\u001b[0;31m         \u001b[0msleep\u001b[0m\u001b[0;34m(\u001b[0m\u001b[0;36m5\u001b[0m\u001b[0;34m)\u001b[0m\u001b[0;34m\u001b[0m\u001b[0m\n\u001b[0m\u001b[1;32m     79\u001b[0m \u001b[0;34m\u001b[0m\u001b[0m\n\u001b[1;32m     80\u001b[0m \u001b[0;34m\u001b[0m\u001b[0m\n",
      "\u001b[0;31mKeyboardInterrupt\u001b[0m: "
     ]
    }
   ],
   "source": [
    "import multiprocessing\n",
    "from time import sleep\n",
    "import datetime\n",
    "\n",
    "# 程序运行时间在上午9:25 到中午 11:30  下午13:30 到 下午 15:00\n",
    "DAY_START = datetime.time(9,25)\n",
    "DAY_END = datetime.time(11, 30)\n",
    "\n",
    "NIGHT_START = datetime.time(13, 30)\n",
    "NIGHT_END = datetime.time(23, 59)\n",
    "sell_code = []\n",
    "code_list = []\n",
    "message_number = 0\n",
    "\n",
    "def get_yestoday_data():\n",
    "    yestoday_k_line = ts.get_k_data(stock_list)[-1]\n",
    "    print(yestoday_k_line)\n",
    "    return yestoday_k_line\n",
    "\n",
    "def construct_message_body(stock_df):\n",
    "    stock_name = list(stock_df.loc[\"name\"].values)\n",
    "    change_rate = list(stock_df.loc[\"涨跌(%)\"].values)\n",
    "    print(change_rate)\n",
    "    body = str(stock_name) + \" is decrease to \" + str(change_rate) + \" % \" + \"please sell it as soon as possibale.\"\n",
    "    return body\n",
    "\n",
    "def get_today_ticks():\n",
    "    for code in stock_code:\n",
    "        df = ts.get_today_ticks(code)\n",
    "        if float(df[\"pchange\"][0]) > -3 and (code not in sell_code):\n",
    "            sell_code.append(code)\n",
    "            message = construct_message_body(code, df[\"pchange\"][0], df[\"time\"][0])\n",
    "            send_message(message)\n",
    "\n",
    "def run_child():\n",
    "    while 1:\n",
    "        print(stock_code)\n",
    "        sell_stock_df = get_sell_stock(stock_code)\n",
    "        if sell_stock_df.empty == False and message_number < 15:\n",
    "            message = construct_message_body(sell_stock_df)\n",
    "            send_message(message)\n",
    "            message_number++\n",
    "        for i in list(sell_stock_df.columns):\n",
    "            print(i)\n",
    "            stock_code.remove(i)\n",
    "        sleep(5)\n",
    "        #k_line = get_yestoday_data(stock_list)\n",
    "#        sleep(30)\n",
    "\n",
    "\n",
    "def run_parent():\n",
    "    print(\"启动父进程\")\n",
    "\n",
    "    child_process = False  # 是否存在子进程\n",
    "\n",
    "    while True:\n",
    "        current_time = datetime.datetime.now().time()\n",
    "\n",
    "        running = True  # 子进程是否可运行\n",
    "        if DAY_START <= current_time <= DAY_END or NIGHT_END >= current_time >= NIGHT_START:\n",
    "            # 判断时候在可运行时\n",
    "            running = True\n",
    "\n",
    "        # 在时间段内则开启子进程\n",
    "        if running and child_process is False:\n",
    "            print(\"启动子进程\")\n",
    "            child_process = multiprocessing.Process(target=run_child)\n",
    "            child_process.start()\n",
    "            print(\"子进程启动成功\")\n",
    "\n",
    "        # 非记录时间则退出子进程\n",
    "        if not running and child_process is not None:\n",
    "            print(\"关闭子进程\")\n",
    "            sell_code = []\n",
    "            child_process.terminate()\n",
    "            child_process.join()\n",
    "            child_process = None\n",
    "            print(\"子进程关闭成功\")\n",
    "\n",
    "        sleep(5)\n",
    "\n",
    "\n",
    "if __name__ == '__main__':\n",
    "    run_parent()\n"
   ]
  },
  {
   "cell_type": "code",
   "execution_count": 131,
   "metadata": {},
   "outputs": [],
   "source": [
    "from twilio.rest import Client\n",
    "from twilio.twiml.messaging_response import Body, Message, Redirect, MessagingResponse\n",
    "def send_message(body):\n",
    "    accound_sid = 'ACbe1489c26eb4b87386f75a84a8f017d6'\n",
    "    auth_token = 'f8548db499f7278f9d7c73dd9b4f4c25'\n",
    "    client =Client(accound_sid,auth_token)\n",
    "    message = client.messages.create(\n",
    "        to='+8615529315818',\n",
    "        from_='+12056274272',\n",
    "        body=body)"
   ]
  },
  {
   "cell_type": "code",
   "execution_count": 1,
   "metadata": {},
   "outputs": [
    {
     "ename": "KeyboardInterrupt",
     "evalue": "",
     "output_type": "error",
     "traceback": [
      "\u001b[0;31m---------------------------------------------------------------------------\u001b[0m",
      "\u001b[0;31mKeyboardInterrupt\u001b[0m                         Traceback (most recent call last)",
      "\u001b[0;32m<ipython-input-1-3892daedfc93>\u001b[0m in \u001b[0;36m<module>\u001b[0;34m\u001b[0m\n\u001b[1;32m      5\u001b[0m     \u001b[0ms\u001b[0m \u001b[0;34m=\u001b[0m \u001b[0mrequest\u001b[0m\u001b[0;34m.\u001b[0m\u001b[0murlopen\u001b[0m\u001b[0;34m(\u001b[0m\u001b[0murl\u001b[0m\u001b[0;34m)\u001b[0m\u001b[0;34m.\u001b[0m\u001b[0mread\u001b[0m\u001b[0;34m(\u001b[0m\u001b[0;34m)\u001b[0m\u001b[0;34m\u001b[0m\u001b[0m\n\u001b[1;32m      6\u001b[0m     \u001b[0;31m#print(s)\u001b[0m\u001b[0;34m\u001b[0m\u001b[0;34m\u001b[0m\u001b[0m\n\u001b[0;32m----> 7\u001b[0;31m     \u001b[0msleep\u001b[0m\u001b[0;34m(\u001b[0m\u001b[0;36m10\u001b[0m\u001b[0;34m)\u001b[0m\u001b[0;34m\u001b[0m\u001b[0m\n\u001b[0m",
      "\u001b[0;31mKeyboardInterrupt\u001b[0m: "
     ]
    }
   ],
   "source": [
    "'''\n",
    "from urllib import request\n",
    "from time import sleep\n",
    "url = \"http://hq.sinajs.cn/list=sh601006\"\n",
    "while 1:\n",
    "    s = request.urlopen(url).read()\n",
    "    #print(s)\n",
    "    sleep(10)\n",
    "'''"
   ]
  },
  {
   "cell_type": "code",
   "execution_count": 71,
   "metadata": {},
   "outputs": [
    {
     "name": "stdout",
     "output_type": "stream",
     "text": [
      "                                601318                  300031\n",
      "PB                                2.29                    2.59\n",
      "PE                                9.32                   23.28\n",
      "ask1                             80.38                   16.61\n",
      "ask1_volume                      77500                    8000\n",
      "ask2                             80.39                   16.63\n",
      "ask2_volume                      52400                   12500\n",
      "ask3                              80.4                   16.65\n",
      "ask3_volume                     135200                    8100\n",
      "ask4                             80.41                   16.66\n",
      "ask4_volume                      33600                  192800\n",
      "ask5                             80.42                   16.67\n",
      "ask5_volume                       5600                    3000\n",
      "ask_volume                 3.90626e+07             1.06935e+07\n",
      "bid1                             80.37                    16.6\n",
      "bid1_volume                     196300                    3000\n",
      "bid2                             80.36                   16.58\n",
      "bid2_volume                      18400                   89900\n",
      "bid3                             80.35                   16.57\n",
      "bid3_volume                      36600                   16500\n",
      "bid4                             80.34                   16.56\n",
      "bid4_volume                      32800                    2500\n",
      "bid5                             80.33                   16.55\n",
      "bid5_volume                      68900                    2200\n",
      "bid_volume                    36257000                 8942100\n",
      "close                            80.43                   16.96\n",
      "code                            601318                  300031\n",
      "datetime           2020-02-05 15:59:06     2020-02-05 15:40:03\n",
      "high                             81.33                    17.5\n",
      "high_2                           81.33                    17.5\n",
      "low                              79.76                   15.78\n",
      "low_2                            79.76                   15.78\n",
      "name                              中国平安                    宝通科技\n",
      "now                              80.38                    16.6\n",
      "open                             80.56                   16.94\n",
      "turnover                           0.7                    6.06\n",
      "unknown                                                       \n",
      "volume                     7.53197e+07             1.96356e+07\n",
      "价格/成交量(手)/成交额  80.38/753197/6062969630  16.60/196356/324741181\n",
      "总市值                            14693.7                   65.86\n",
      "成交量(手)                        75319700                19635600\n",
      "成交额(万)                     6.06297e+09              3.2474e+08\n",
      "振幅                                1.95                   10.14\n",
      "最近逐笔成交                                                        \n",
      "流通市值                            8707.3                    53.8\n",
      "涨停价                              88.47                   18.66\n",
      "涨跌                               -0.05                   -0.36\n",
      "涨跌(%)                            -0.06                   -2.12\n",
      "跌停价                              72.39                   15.26\n",
      "                                601318                  300031\n",
      "PB                                2.29                    2.59\n",
      "PE                                9.32                   23.28\n",
      "ask1                             80.38                   16.61\n",
      "ask1_volume                      77500                    8000\n",
      "ask2                             80.39                   16.63\n",
      "ask2_volume                      52400                   12500\n",
      "ask3                              80.4                   16.65\n",
      "ask3_volume                     135200                    8100\n",
      "ask4                             80.41                   16.66\n",
      "ask4_volume                      33600                  192800\n",
      "ask5                             80.42                   16.67\n",
      "ask5_volume                       5600                    3000\n",
      "ask_volume                 3.90626e+07             1.06935e+07\n",
      "bid1                             80.37                    16.6\n",
      "bid1_volume                     196300                    3000\n",
      "bid2                             80.36                   16.58\n",
      "bid2_volume                      18400                   89900\n",
      "bid3                             80.35                   16.57\n",
      "bid3_volume                      36600                   16500\n",
      "bid4                             80.34                   16.56\n",
      "bid4_volume                      32800                    2500\n",
      "bid5                             80.33                   16.55\n",
      "bid5_volume                      68900                    2200\n",
      "bid_volume                    36257000                 8942100\n",
      "close                            80.43                   16.96\n",
      "code                            601318                  300031\n",
      "datetime           2020-02-05 15:59:06     2020-02-05 15:40:03\n",
      "high                             81.33                    17.5\n",
      "high_2                           81.33                    17.5\n",
      "low                              79.76                   15.78\n",
      "low_2                            79.76                   15.78\n",
      "name                              中国平安                    宝通科技\n",
      "now                              80.38                    16.6\n",
      "open                             80.56                   16.94\n",
      "turnover                           0.7                    6.06\n",
      "unknown                                                       \n",
      "volume                     7.53197e+07             1.96356e+07\n",
      "价格/成交量(手)/成交额  80.38/753197/6062969630  16.60/196356/324741181\n",
      "总市值                            14693.7                   65.86\n",
      "成交量(手)                        75319700                19635600\n",
      "成交额(万)                     6.06297e+09              3.2474e+08\n",
      "振幅                                1.95                   10.14\n",
      "最近逐笔成交                                                        \n",
      "流通市值                            8707.3                    53.8\n",
      "涨停价                              88.47                   18.66\n",
      "涨跌                               -0.05                   -0.36\n",
      "涨跌(%)                            -0.06                   -2.12\n",
      "跌停价                              72.39                   15.26\n"
     ]
    }
   ],
   "source": [
    "import easyquotation\n",
    "import pandas as pd\n",
    "\n",
    "quotation = easyquotation.use(\"qq\")\n",
    "\n",
    "\n",
    "a = quotation.stocks(stock_code)\n",
    "\n",
    "df = pd.DataFrame(a)\n",
    "#print(df)\n",
    "data = df.loc[:, df.loc[\"涨跌(%)\"] < -3.0]\n",
    "print(data)\n",
    "#data = df.loc[[\"name\", \"涨跌(%)\"]]\n",
    "print(data)\n",
    "\n",
    "\n",
    "\n",
    "#print(df.loc[[\"name\", [df.loc[[\"涨跌(%)\"]] < -3]])\n",
    "df.to_csv(\"stock.csv\")\n",
    "#print(df)\n"
   ]
  },
  {
   "cell_type": "code",
   "execution_count": 70,
   "metadata": {},
   "outputs": [
    {
     "name": "stdout",
     "output_type": "stream",
     "text": [
      "      601318 300031\n",
      "name    中国平安   宝通科技\n",
      "涨跌(%)  -0.06  -2.12\n"
     ]
    }
   ],
   "source": [
    "print(data.loc[:, data.loc[\"涨跌(%)\"] < 0])"
   ]
  },
  {
   "cell_type": "code",
   "execution_count": 37,
   "metadata": {},
   "outputs": [
    {
     "ename": "TypeError",
     "evalue": "unhashable type: 'list'",
     "output_type": "error",
     "traceback": [
      "\u001b[0;31m---------------------------------------------------------------------------\u001b[0m",
      "\u001b[0;31mTypeError\u001b[0m                                 Traceback (most recent call last)",
      "\u001b[0;32m<ipython-input-37-989f9afe14fe>\u001b[0m in \u001b[0;36m<module>\u001b[0;34m\u001b[0m\n\u001b[1;32m      1\u001b[0m \u001b[0mdf\u001b[0m \u001b[0;34m=\u001b[0m \u001b[0mpd\u001b[0m\u001b[0;34m.\u001b[0m\u001b[0mread_csv\u001b[0m\u001b[0;34m(\u001b[0m\u001b[0;34m\"stock.csv\"\u001b[0m\u001b[0;34m)\u001b[0m\u001b[0;34m\u001b[0m\u001b[0m\n\u001b[1;32m      2\u001b[0m \u001b[0;31m#print(df)\u001b[0m\u001b[0;34m\u001b[0m\u001b[0;34m\u001b[0m\u001b[0m\n\u001b[0;32m----> 3\u001b[0;31m \u001b[0mprint\u001b[0m\u001b[0;34m(\u001b[0m\u001b[0mdf\u001b[0m\u001b[0;34m.\u001b[0m\u001b[0miloc\u001b[0m\u001b[0;34m(\u001b[0m\u001b[0;34m[\u001b[0m\u001b[0;36m46\u001b[0m\u001b[0;34m]\u001b[0m\u001b[0;34m)\u001b[0m\u001b[0;34m)\u001b[0m\u001b[0;34m\u001b[0m\u001b[0m\n\u001b[0m",
      "\u001b[0;32m~/miniconda3/lib/python3.6/site-packages/pandas/core/indexing.py\u001b[0m in \u001b[0;36m__call__\u001b[0;34m(self, axis)\u001b[0m\n\u001b[1;32m    100\u001b[0m \u001b[0;34m\u001b[0m\u001b[0m\n\u001b[1;32m    101\u001b[0m         \u001b[0;32mif\u001b[0m \u001b[0maxis\u001b[0m \u001b[0;32mis\u001b[0m \u001b[0;32mnot\u001b[0m \u001b[0;32mNone\u001b[0m\u001b[0;34m:\u001b[0m\u001b[0;34m\u001b[0m\u001b[0m\n\u001b[0;32m--> 102\u001b[0;31m             \u001b[0maxis\u001b[0m \u001b[0;34m=\u001b[0m \u001b[0mself\u001b[0m\u001b[0;34m.\u001b[0m\u001b[0mobj\u001b[0m\u001b[0;34m.\u001b[0m\u001b[0m_get_axis_number\u001b[0m\u001b[0;34m(\u001b[0m\u001b[0maxis\u001b[0m\u001b[0;34m)\u001b[0m\u001b[0;34m\u001b[0m\u001b[0m\n\u001b[0m\u001b[1;32m    103\u001b[0m         \u001b[0mnew_self\u001b[0m\u001b[0;34m.\u001b[0m\u001b[0maxis\u001b[0m \u001b[0;34m=\u001b[0m \u001b[0maxis\u001b[0m\u001b[0;34m\u001b[0m\u001b[0m\n\u001b[1;32m    104\u001b[0m         \u001b[0;32mreturn\u001b[0m \u001b[0mnew_self\u001b[0m\u001b[0;34m\u001b[0m\u001b[0m\n",
      "\u001b[0;32m~/miniconda3/lib/python3.6/site-packages/pandas/core/generic.py\u001b[0m in \u001b[0;36m_get_axis_number\u001b[0;34m(cls, axis)\u001b[0m\n\u001b[1;32m    340\u001b[0m     \u001b[0;34m@\u001b[0m\u001b[0mclassmethod\u001b[0m\u001b[0;34m\u001b[0m\u001b[0m\n\u001b[1;32m    341\u001b[0m     \u001b[0;32mdef\u001b[0m \u001b[0m_get_axis_number\u001b[0m\u001b[0;34m(\u001b[0m\u001b[0mcls\u001b[0m\u001b[0;34m,\u001b[0m \u001b[0maxis\u001b[0m\u001b[0;34m)\u001b[0m\u001b[0;34m:\u001b[0m\u001b[0;34m\u001b[0m\u001b[0m\n\u001b[0;32m--> 342\u001b[0;31m         \u001b[0maxis\u001b[0m \u001b[0;34m=\u001b[0m \u001b[0mcls\u001b[0m\u001b[0;34m.\u001b[0m\u001b[0m_AXIS_ALIASES\u001b[0m\u001b[0;34m.\u001b[0m\u001b[0mget\u001b[0m\u001b[0;34m(\u001b[0m\u001b[0maxis\u001b[0m\u001b[0;34m,\u001b[0m \u001b[0maxis\u001b[0m\u001b[0;34m)\u001b[0m\u001b[0;34m\u001b[0m\u001b[0m\n\u001b[0m\u001b[1;32m    343\u001b[0m         \u001b[0;32mif\u001b[0m \u001b[0mis_integer\u001b[0m\u001b[0;34m(\u001b[0m\u001b[0maxis\u001b[0m\u001b[0;34m)\u001b[0m\u001b[0;34m:\u001b[0m\u001b[0;34m\u001b[0m\u001b[0m\n\u001b[1;32m    344\u001b[0m             \u001b[0;32mif\u001b[0m \u001b[0maxis\u001b[0m \u001b[0;32min\u001b[0m \u001b[0mcls\u001b[0m\u001b[0;34m.\u001b[0m\u001b[0m_AXIS_NAMES\u001b[0m\u001b[0;34m:\u001b[0m\u001b[0;34m\u001b[0m\u001b[0m\n",
      "\u001b[0;31mTypeError\u001b[0m: unhashable type: 'list'"
     ]
    }
   ],
   "source": [
    "df = pd.read_csv(\"stock.csv\")\n",
    "#print(df)\n",
    "print(df.iloc([46]))"
   ]
  },
  {
   "cell_type": "code",
   "execution_count": null,
   "metadata": {},
   "outputs": [],
   "source": []
  }
 ],
 "metadata": {
  "kernelspec": {
   "display_name": "Python 3",
   "language": "python",
   "name": "python3"
  },
  "language_info": {
   "codemirror_mode": {
    "name": "ipython",
    "version": 3
   },
   "file_extension": ".py",
   "mimetype": "text/x-python",
   "name": "python",
   "nbconvert_exporter": "python",
   "pygments_lexer": "ipython3",
   "version": "3.6.4"
  }
 },
 "nbformat": 4,
 "nbformat_minor": 2
}
