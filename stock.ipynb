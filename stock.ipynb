{
 "cells": [
  {
   "cell_type": "code",
   "execution_count": 1,
   "metadata": {},
   "outputs": [],
   "source": [
    "import tushare as ts\n",
    "import time\n",
    "import sys\n",
    "import pandas as pd\n",
    "\n",
    "df = pd.read_csv(\"/Users/liruixuan/program/stock/stock.csv\", dtype = object)"
   ]
  },
  {
   "cell_type": "code",
   "execution_count": 2,
   "metadata": {},
   "outputs": [],
   "source": [
    "#限制每日发短信数量， 。。。未完待续\n",
    "def constrain_message_number():\n",
    "    if message_number > 10:\n",
    "        return 0\n",
    "    return 1\n",
    "    #TODO"
   ]
  },
  {
   "cell_type": "code",
   "execution_count": 3,
   "metadata": {},
   "outputs": [],
   "source": [
    "#利用twilio发送短信到本地手机\n",
    "from twilio.rest import Client\n",
    "from twilio.twiml.messaging_response import Body, Message, Redirect, MessagingResponse\n",
    "import secret_vari\n",
    "\n",
    "def construct_message_body(stock_df):\n",
    "    stock_name = list(stock_df.loc[\"name\"].values)\n",
    "    change_rate = list(stock_df.loc[\"涨跌(%)\"].values)\n",
    "    print(change_rate)\n",
    "    body = str(stock_name) + \" is decrease to \" + str(change_rate) + \" % \" + \"please sell it as soon as possibale.\"\n",
    "    return body\n",
    "\n",
    "def send_message(message):\n",
    "    accound_sid = secret_vari.accound_sid\n",
    "    auth_token = secret_vari.auth_token\n",
    "    client =Client(accound_sid,auth_token)\n",
    "    message = client.messages.create(\n",
    "        to=secret_vari.my_telephone_num,\n",
    "        from_=secret_vari.twilio_telephone_num,\n",
    "        body=message)"
   ]
  },
  {
   "cell_type": "code",
   "execution_count": 4,
   "metadata": {},
   "outputs": [],
   "source": [
    "#获取实时股票行情， 持有股票日跌幅超过3%， 短信提醒卖出\n",
    "import easyquotation\n",
    "import pandas as pd\n",
    "\n",
    "def get_stock_current(stock_code):\n",
    "    quotation = easyquotation.use(\"qq\")\n",
    "    stock_current = quotation.stocks(stock_code)\n",
    "    df = pd.DataFrame(stock_current)\n",
    "    return df\n",
    "\n",
    "def find_decrease_stock(stock_df):\n",
    "    sell_stock = stock_df.loc[[\"name\", \"涨跌(%)\"], stock_df.loc[\"涨跌(%)\"] < -3]\n",
    "    return sell_stock\n",
    "\n",
    "def get_sell_stock(code_list):\n",
    "    code_df = get_stock_current(code_list)\n",
    "    sell_stock = find_decrease_stock(code_df)\n",
    "    return sell_stock\n",
    "\n",
    "#get_sell_stock(stock_code)"
   ]
  },
  {
   "cell_type": "code",
   "execution_count": 5,
   "metadata": {},
   "outputs": [],
   "source": [
    "#判断是否为交易日， 返回1为交易日，0为非交易日， 。。。未完待续\n",
    "import tushare as ts\n",
    "import datetime\n",
    "import time\n",
    "def TradingDay():\n",
    "    DatetimeNOW = datetime.datetime.now().strftime('%Y-%m-%d')\n",
    "    OpenList = ts.trade_cal()\n",
    "    print(OpenList.calendarDate)\n",
    "    OpentimeList = OpenList.isOpen[OpenList.calendarDate == DatetimeNOW]\n",
    "    print(OpentimeList.values)\n",
    "    #TODO"
   ]
  },
  {
   "cell_type": "code",
   "execution_count": null,
   "metadata": {},
   "outputs": [
    {
     "name": "stdout",
     "output_type": "stream",
     "text": [
      "启动父进程\n",
      "启动子进程\n",
      "<Process(Process-1, initial)>\n",
      "['Unnamed: 0', '510050', '600580', '601318', '601600', '601933', '000636', '001914', '002021', '002076', '300031', '002080']\n",
      "子进程启动成功\n",
      "[-3.48]\n",
      "['Unnamed: 0', '510050', '600580', '601318', '601600', '601933', '000636', '001914', '002076', '300031', '002080']\n",
      "['Unnamed: 0', '510050', '600580', '601318', '601600', '601933', '000636', '001914', '002076', '300031', '002080']\n"
     ]
    }
   ],
   "source": [
    "import multiprocessing\n",
    "from time import sleep\n",
    "import datetime\n",
    "\n",
    "# 程序运行时间在上午9:25 到中午 11:30  下午13:30 到 下午 15:00\n",
    "DAY_START = datetime.time(9,25)\n",
    "DAY_END = datetime.time(11, 30)\n",
    "\n",
    "NIGHT_START = datetime.time(13, 30)\n",
    "NIGHT_END = datetime.time(23, 59)\n",
    "sell_code = []\n",
    "code_list = []\n",
    "message_number = 0\n",
    "stock_code = list(df.columns)\n",
    "\n",
    "def run_child():\n",
    "    while 1:\n",
    "        print(stock_code)\n",
    "        sell_stock_df = get_sell_stock(stock_code)\n",
    "        if sell_stock_df.empty == False:\n",
    "            message = construct_message_body(sell_stock_df)\n",
    "            send_message(message)\n",
    "        for i in list(sell_stock_df.columns):\n",
    "            stock_code.remove(i)\n",
    "        sleep(30)\n",
    "\n",
    "def run_parent():\n",
    "    print(\"启动父进程\")\n",
    "\n",
    "    child_process = False  # 是否存在子进程\n",
    "\n",
    "    while True:\n",
    "        current_time = datetime.datetime.now().time()\n",
    "\n",
    "        running = False  # 子进程是否可运行\n",
    "        if DAY_START <= current_time <= DAY_END or NIGHT_END >= current_time >= NIGHT_START:\n",
    "            # 判断时候在可运行时\n",
    "            running = True\n",
    "\n",
    "        # 在时间段内则开启子进程\n",
    "        if running and child_process is False:\n",
    "            print(\"启动子进程\")\n",
    "            child_process = multiprocessing.Process(target=run_child)\n",
    "            print(child_process)\n",
    "            child_process.start()\n",
    "            print(\"子进程启动成功\")\n",
    "\n",
    "        # 非记录时间则退出子进程\n",
    "        if not running and child_process is True:\n",
    "            print(\"关闭子进程\")\n",
    "            sell_code = []\n",
    "            child_process.terminate()\n",
    "            child_process.join()\n",
    "            child_process = None\n",
    "            print(\"子进程关闭成功\")\n",
    "\n",
    "        sleep(5)\n",
    "\n",
    "if __name__ == '__main__':\n",
    "    run_parent()\n"
   ]
  },
  {
   "cell_type": "code",
   "execution_count": null,
   "metadata": {},
   "outputs": [],
   "source": []
  }
 ],
 "metadata": {
  "kernelspec": {
   "display_name": "Python 3",
   "language": "python",
   "name": "python3"
  },
  "language_info": {
   "codemirror_mode": {
    "name": "ipython",
    "version": 3
   },
   "file_extension": ".py",
   "mimetype": "text/x-python",
   "name": "python",
   "nbconvert_exporter": "python",
   "pygments_lexer": "ipython3",
   "version": "3.6.4"
  }
 },
 "nbformat": 4,
 "nbformat_minor": 2
}
